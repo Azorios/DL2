{
 "cells": [
  {
   "attachments": {},
   "cell_type": "markdown",
   "metadata": {},
   "source": [
    "# Decoding\n",
    "\n",
    "The key is a string of 48 bits, which can be converted to a boolean array of 48 elements. \n",
    "The `msg_extractor` is a TorchScript model that extracts the message from the image.\n",
    "\n",
    "Derived from https://github.com/facebookresearch/stable_signature/blob/main/decoding.ipynb as of 16th August 2023"
   ]
  },
  {
   "attachments": {},
   "cell_type": "markdown",
   "metadata": {},
   "source": [
    "### Imports and setup"
   ]
  },
  {
   "cell_type": "code",
   "execution_count": 17,
   "metadata": {
    "ExecuteTime": {
     "end_time": "2023-08-16T17:58:46.472827400Z",
     "start_time": "2023-08-16T17:58:46.407815100Z"
    }
   },
   "outputs": [
    {
     "name": "stdout",
     "output_type": "stream",
     "text": [
      "cuda will be used.\n"
     ]
    }
   ],
   "source": [
    "from PIL import Image\n",
    "import torch\n",
    "import torchvision.transforms as transforms\n",
    "import os\n",
    "from scipy.stats import binomtest\n",
    "from skimage.metrics import peak_signal_noise_ratio as psnr\n",
    "import numpy as np\n",
    "\n",
    "def msg2str(msg):\n",
    "    return \"\".join([('1' if el else '0') for el in msg])\n",
    "\n",
    "def str2msg(str):\n",
    "    return [True if el=='1' else False for el in str]\n",
    "\n",
    "device = torch.device(\"cuda\") if torch.cuda.is_available() else torch.device(\"cpu\")\n",
    "print(f\"{device} will be used.\")\n",
    "\n",
    "msg_extractor = torch.jit.load(\"dec_48b_whit.torchscript.pt\").to(device)\n",
    "\n",
    "transform_imnet = transforms.Compose([\n",
    "    transforms.ToTensor(),\n",
    "    transforms.Normalize(mean=[0.485, 0.456, 0.406],std=[0.229, 0.224, 0.225])\n",
    "    ])"
   ]
  },
  {
   "cell_type": "markdown",
   "source": [
    "### Functions"
   ],
   "metadata": {
    "collapsed": false
   }
  },
  {
   "cell_type": "code",
   "execution_count": 3,
   "outputs": [],
   "source": [
    "def average(total, num_images):\n",
    "    return total / num_images\n",
    "\n",
    "def eval_img(img):\n",
    "    # feed image into model and extract the bit string (message)\n",
    "    img = transform_imnet(img).unsqueeze(0).to(device)\n",
    "    msg = msg_extractor(img) # b c h w -> b k\n",
    "    \n",
    "    # convert message into boolean message\n",
    "    bool_msg = (msg>0).squeeze().cpu().numpy().tolist()\n",
    "\n",
    "    # compute difference between model key and message extracted from image\n",
    "    diff = [bool_msg[i] != bool_key[i] for i in range(len(bool_msg))]\n",
    "    \n",
    "    # calculate bit accuracy\n",
    "    bit_acc = 1 - sum(diff)/len(diff)\n",
    "    \n",
    "    # compute p-value\n",
    "    pval = binomtest(sum(diff), len(diff), 0.5).pvalue\n",
    "    \n",
    "    return bit_acc, pval"
   ],
   "metadata": {
    "collapsed": false,
    "ExecuteTime": {
     "end_time": "2023-08-16T17:37:23.510793800Z",
     "start_time": "2023-08-16T17:37:23.500792Z"
    }
   }
  },
  {
   "attachments": {},
   "cell_type": "markdown",
   "metadata": {},
   "source": [
    "### Decode images and compute metrics\n",
    "\n",
    "Metrics are:\n",
    "- **Bit accuracy**: number of matching bits between the key and the message, divided by the total number of bits.\n",
    "- **$p$-value**: probability of observing a bit accuracy as high as the one observed, assuming the null hypothesis that the image is genuine."
   ]
  },
  {
   "cell_type": "code",
   "execution_count": null,
   "outputs": [],
   "source": [
    "w_img_path = './data/test/watermarked/0'\n",
    "wr_img_path = './data/test/watermark_removed/0'\n",
    "key = '111010110101000001010111010011010100010000100111' # model key\n",
    "bool_key = str2msg(key)\n",
    "\n",
    "total_w_acc, total_wr_acc = 0, 0\n",
    "total_w_pval, total_wr_pval = 0, 0\n",
    "total_psnr = 0\n",
    "num_images = 0\n",
    "\n",
    "\n",
    "# go through each image of the directory\n",
    "for filename in os.listdir(w_img_path):\n",
    "    \n",
    "    if filename.endswith(\".jpg\") or filename.endswith(\".png\"):\n",
    "        \n",
    "        # open the images\n",
    "        watermarked_img = Image.open(os.path.join(w_img_path, filename))\n",
    "        watermark_removed_img = Image.open(os.path.join(wr_img_path, filename))\n",
    "        \n",
    "        # get bit accuracy and pvalue of the watermarked and watermark-removed images  \n",
    "        w_bit_acc, w_pval = eval_img(watermarked_img)\n",
    "        wr_bit_acc, wr_pval = eval_img(watermark_removed_img)\n",
    "        \n",
    "        # compute PSNR\n",
    "        psnr_value = psnr(np.array(watermarked_img), np.array(watermark_removed_img))\n",
    "        \n",
    "        # used for metrics\n",
    "        total_w_acc += w_bit_acc\n",
    "        total_wr_acc += wr_bit_acc\n",
    "        total_w_pval += w_pval\n",
    "        total_wr_pval += wr_pval\n",
    "        total_psnr += psnr_value\n",
    "        num_images += 1\n",
    "\n",
    "# compute averages of metrics and print them\n",
    "print(\"{:<40} {:<40}\".format('Watermarked Images', 'Watermark Removed Images'))\n",
    "print(\"{:<40} {:<40}\".format(f'Average Bit Accuracy: {total_w_acc / num_images:.6f}', f'Average Bit Accuracy: {total_wr_acc / num_images:.6f}'))\n",
    "print(\"{:<40} {:<40}\".format(f'Average p-value: {total_w_pval / num_images:.6f}', f'Average p-value: {total_wr_pval / num_images:.6f}'))\n",
    "print(f'Average PSNR: {total_psnr / num_images:.6f}')"
   ],
   "metadata": {
    "collapsed": false,
    "is_executing": true,
    "ExecuteTime": {
     "start_time": "2023-08-16T18:17:08.035498600Z"
    }
   }
  },
  {
   "cell_type": "code",
   "execution_count": 16,
   "outputs": [
    {
     "name": "stdout",
     "output_type": "stream",
     "text": [
      "+----------------------+--------------------+--------------------------+\n",
      "|                      | Watermarked Images | Watermark Removed Images |\n",
      "+----------------------+--------------------+--------------------------+\n",
      "| Average Bit Accuracy |      0.988542      |         0.535354         |\n",
      "|   Average p-value    |      0.000035      |         0.549755         |\n",
      "|     Average PSNR     |     23.131498      |        23.131498         |\n",
      "+----------------------+--------------------+--------------------------+\n"
     ]
    }
   ],
   "source": [
    "from prettytable import PrettyTable\n",
    "\n",
    "# define table\n",
    "table = PrettyTable()\n",
    "\n",
    "# add columns\n",
    "table.field_names = [\"\", \"Watermarked Images\", \"Watermark Removed Images\"]\n",
    "table.add_row([\"Average Bit Accuracy\", f\"{total_w_acc / num_images:.6f}\", f\"{total_wr_acc / num_images:.6f}\"])\n",
    "table.add_row([\"Average p-value\", f\"{total_w_pval / num_images:.6f}\", f\"{total_wr_pval / num_images:.6f}\"])\n",
    "table.add_row([\"Average PSNR\", f\"{total_psnr / num_images:.6f}\", f\"{total_psnr / num_images:.6f}\"])\n",
    "\n",
    "# print table\n",
    "print(table)"
   ],
   "metadata": {
    "collapsed": false,
    "ExecuteTime": {
     "end_time": "2023-08-16T17:55:45.910036500Z",
     "start_time": "2023-08-16T17:55:45.890032700Z"
    }
   }
  }
 ],
 "metadata": {
  "kernelspec": {
   "display_name": "ldm",
   "language": "python",
   "name": "python3"
  },
  "language_info": {
   "codemirror_mode": {
    "name": "ipython",
    "version": 3
   },
   "file_extension": ".py",
   "mimetype": "text/x-python",
   "name": "python",
   "nbconvert_exporter": "python",
   "pygments_lexer": "ipython3",
   "version": "3.10.10"
  },
  "orig_nbformat": 4,
  "vscode": {
   "interpreter": {
    "hash": "df2bc3fed92e5aa2486479205013f8a4acaa6b99dec94d8ee399d56842a5d582"
   }
  }
 },
 "nbformat": 4,
 "nbformat_minor": 2
}
